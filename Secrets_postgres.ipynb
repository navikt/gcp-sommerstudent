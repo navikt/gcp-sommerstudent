{
 "cells": [
  {
   "cell_type": "markdown",
   "id": "0d14144e-b6e1-4e26-bc66-333fcdc7890a",
   "metadata": {},
   "source": [
    "# Hente hemmeligheter fra secret manager"
   ]
  },
  {
   "cell_type": "markdown",
   "id": "881563ee-92ea-47dd-8d98-6f72becbd3ff",
   "metadata": {},
   "source": [
    "Denne guiden er inspirert av https://docs.knada.io/prosessere-data/notebook_general/#credentials-og-hemmeligheter."
   ]
  },
  {
   "cell_type": "markdown",
   "id": "ad37dfac-f279-49bb-946d-5ad4019f977b",
   "metadata": {},
   "source": [
    "Første steg er å installere secret manager-pakken på din notebookserver. Dette steget trengs bare første gang.  \n",
    "Åpne en terminal og kjør `pip install google-cloud-secret-manager`\n",
    "\n",
    "Deretter må du oppdatere dine google credentials ved å kjøre `gcloud auth login --update-adc` og følge instruksjonen du får for å logge på din NAV-googlekonto."
   ]
  },
  {
   "cell_type": "markdown",
   "id": "cfdf82c1-e835-46ec-a4ec-90a36d68e18d",
   "metadata": {},
   "source": [
    "Importer secret manager-pakken"
   ]
  },
  {
   "cell_type": "code",
   "execution_count": null,
   "id": "813f3a59-9168-4298-a064-77f9da8a0a66",
   "metadata": {},
   "outputs": [],
   "source": [
    "from google.cloud import secretmanager"
   ]
  },
  {
   "cell_type": "markdown",
   "id": "624703b9-ffe1-49f9-9459-6f3a72ddfb1a",
   "metadata": {},
   "source": [
    "Opprett en klient"
   ]
  },
  {
   "cell_type": "code",
   "execution_count": null,
   "id": "7d222b3c-ea89-4bd0-9eb9-1cbfbe45993a",
   "metadata": {},
   "outputs": [],
   "source": [
    "secrets = secretmanager.SecretManagerServiceClient()"
   ]
  },
  {
   "cell_type": "markdown",
   "id": "59494268-2300-4c86-99a5-9477c9f53b5a",
   "metadata": {},
   "source": [
    "Aksesser din hemmelighet - bytt ut variablene til dine egne"
   ]
  },
  {
   "cell_type": "code",
   "execution_count": null,
   "id": "a034889b-94fc-4fd3-b63a-3dc394f0bf89",
   "metadata": {},
   "outputs": [],
   "source": [
    "project_name = \"knada-gcp\"\n",
    "secret_name = \"min-hemmelighet\"\n",
    "version = \"latest\"\n",
    "\n",
    "resource_name = f\"projects/{project_name}/secrets/{secret_name}/versions/{version}\"\n",
    "secret = secrets.access_secret_version(name=resource_name)"
   ]
  },
  {
   "cell_type": "markdown",
   "id": "54a8cc7c-5f07-4e0c-8902-0c3c1849853f",
   "metadata": {},
   "source": [
    "Les hemmelighetene dine inn i en dictionary"
   ]
  },
  {
   "cell_type": "code",
   "execution_count": null,
   "id": "f1fa0cb6-e17d-436c-817a-1f2da0d6b1b6",
   "metadata": {},
   "outputs": [],
   "source": [
    "secrets = dict([line.split(\":\") for line in secret.payload.data.decode('UTF-8').splitlines()])"
   ]
  },
  {
   "cell_type": "markdown",
   "id": "f09877a0-f543-4c43-8fb1-773dec79d83b",
   "metadata": {},
   "source": [
    "# Koble til en postgres database med hemmelighetene dine"
   ]
  },
  {
   "cell_type": "code",
   "execution_count": null,
   "id": "97bcdc18-bc22-4376-9955-a767bb080dc6",
   "metadata": {},
   "outputs": [],
   "source": [
    "import psycopg2\n",
    "\n",
    "import pandas as pd\n",
    "\n",
    "from sqlalchemy import create_engine"
   ]
  },
  {
   "cell_type": "code",
   "execution_count": null,
   "id": "1d756c7e-6e60-4814-bf60-a6bcb2667deb",
   "metadata": {},
   "outputs": [],
   "source": [
    "method = \"postgresql+psycopg2\"\n",
    "host = \"10.53.15.223:5432\"\n",
    "db_name = \"ufore-sommerstudenter\"\n",
    "\n",
    "alchemyEngine = create_engine(f'{method}://{secrets[\"UFORE_SOMMER_USER\"]}:{secrets[\"UFORE_SOMMER_PASSWORD\"]}@{host}/{db_name}')\n",
    "dbConnection = alchemyEngine.connect()"
   ]
  },
  {
   "cell_type": "code",
   "execution_count": null,
   "id": "1e7d0d48-d808-4a62-a384-75e257fce738",
   "metadata": {},
   "outputs": [],
   "source": [
    "pd.read_sql('select * from ufore;', dbConnection)"
   ]
  }
 ],
 "metadata": {
  "environment": {
   "kernel": "python3",
   "name": "common-cpu.m87",
   "type": "gcloud",
   "uri": "gcr.io/deeplearning-platform-release/base-cpu:m87"
  },
  "kernelspec": {
   "display_name": "Python 3",
   "language": "python",
   "name": "python3"
  },
  "language_info": {
   "codemirror_mode": {
    "name": "ipython",
    "version": 3
   },
   "file_extension": ".py",
   "mimetype": "text/x-python",
   "name": "python",
   "nbconvert_exporter": "python",
   "pygments_lexer": "ipython3",
   "version": "3.7.12"
  }
 },
 "nbformat": 4,
 "nbformat_minor": 5
}
