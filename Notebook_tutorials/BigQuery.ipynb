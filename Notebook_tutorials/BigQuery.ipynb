{
 "cells": [
  {
   "cell_type": "markdown",
   "id": "cf403eb0-8711-4788-ab2c-6cab310abe77",
   "metadata": {},
   "source": [
    "# Hente data fra BigQuery\n",
    "\n",
    "I BigQuery bruker man ofte sin personlige NAV-googlebruker for å få tilgang til data. Disse tilgangene får du vanligvis gjennom [datamarkedsplassen](data.intern.nav.no).\n",
    "\n",
    "Første steg er å logge på google cloud i en terminal på notebookserveren. Kjør `gcloud auth login --update-adc` og følg instruksjonene."
   ]
  },
  {
   "cell_type": "markdown",
   "id": "833512ea-2d08-482f-9292-92563d717fd9",
   "metadata": {},
   "source": [
    "Du må kanskje også installere pandas for bq:  \n",
    "`pip install pandas-gbq`"
   ]
  },
  {
   "cell_type": "code",
   "execution_count": null,
   "id": "20ae7363-8cc0-4ab7-b25a-4f28b00eec66",
   "metadata": {},
   "outputs": [],
   "source": [
    "import pandas as pd"
   ]
  },
  {
   "cell_type": "code",
   "execution_count": null,
   "id": "86e80e1e-1a27-4ddc-aa06-c87236ac3355",
   "metadata": {},
   "outputs": [],
   "source": [
    "# Åpent dataprodukt\n",
    "project_id = 'nada-prod-6977'\n",
    "dataset = 'dataproducts'\n",
    "table = 'dataproducts'\n",
    "\n",
    "table_ref = f'{project_id}.{dataset}.{table}'\n",
    "\n",
    "query = f\"select * from `{table_ref}` where date(version)=current_date\"\n",
    "\n",
    "df = pd.read_gbq(query, project_id)"
   ]
  },
  {
   "cell_type": "code",
   "execution_count": null,
   "id": "8776b669-a54b-4eef-a85b-0cc8a27b3efe",
   "metadata": {},
   "outputs": [],
   "source": [
    "df.head()"
   ]
  }
 ],
 "metadata": {
  "environment": {
   "kernel": "python3",
   "name": "common-cpu.m87",
   "type": "gcloud",
   "uri": "gcr.io/deeplearning-platform-release/base-cpu:m87"
  },
  "kernelspec": {
   "display_name": "Python 3",
   "language": "python",
   "name": "python3"
  },
  "language_info": {
   "codemirror_mode": {
    "name": "ipython",
    "version": 3
   },
   "file_extension": ".py",
   "mimetype": "text/x-python",
   "name": "python",
   "nbconvert_exporter": "python",
   "pygments_lexer": "ipython3",
   "version": "3.7.12"
  }
 },
 "nbformat": 4,
 "nbformat_minor": 5
}
